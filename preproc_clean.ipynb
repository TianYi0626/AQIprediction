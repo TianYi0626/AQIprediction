{
 "cells": [
  {
   "cell_type": "code",
   "execution_count": 25,
   "metadata": {},
   "outputs": [],
   "source": [
    "import pandas as pd\n",
    "import numpy as np"
   ]
  },
  {
   "cell_type": "code",
   "execution_count": 26,
   "metadata": {},
   "outputs": [],
   "source": [
    "# 3. Process WND field\n",
    "def process_wnd(value):\n",
    "    parts = value.split(\",\")\n",
    "    direction = int(parts[0]) if int(parts[0]) <= 360 else None\n",
    "    speed = int(parts[3])\n",
    "    return (direction, speed)"
   ]
  },
  {
   "cell_type": "code",
   "execution_count": 27,
   "metadata": {},
   "outputs": [],
   "source": [
    "# 4. Process CIG field\n",
    "def process_cig(value):\n",
    "    first_value = int(value.split(\",\")[0])\n",
    "    return None if first_value == 99999 else first_value"
   ]
  },
  {
   "cell_type": "code",
   "execution_count": 28,
   "metadata": {},
   "outputs": [],
   "source": [
    "# 5. Process VIS field\n",
    "def process_vis(value):\n",
    "    first_value = int(value.split(\",\")[0])\n",
    "    return None if first_value == 999999 else first_value"
   ]
  },
  {
   "cell_type": "code",
   "execution_count": 29,
   "metadata": {},
   "outputs": [],
   "source": [
    "# 6. Process TMP field\n",
    "def process_tmp(value):\n",
    "    first_value = int(value.split(\",\")[0])\n",
    "    return None if first_value == 9999 else first_value / 10  # Convert to degrees Celsius"
   ]
  },
  {
   "cell_type": "code",
   "execution_count": 30,
   "metadata": {},
   "outputs": [],
   "source": [
    "# 7. Process DEW field\n",
    "def process_dew(value):\n",
    "    first_value = int(value.split(\",\")[0])\n",
    "    return None if first_value == 9999 else first_value / 10  # Convert to degrees Celsius"
   ]
  },
  {
   "cell_type": "code",
   "execution_count": 31,
   "metadata": {},
   "outputs": [],
   "source": [
    "# 8. Process SLP field\n",
    "def process_slp(value):\n",
    "    first_value = int(value.split(\",\")[0])\n",
    "    return None if first_value == 99999 else first_value / 10  # Convert to hPa"
   ]
  },
  {
   "cell_type": "code",
   "execution_count": 32,
   "metadata": {},
   "outputs": [],
   "source": [
    "def process_file(input_file, output_file):\n",
    "    df = pd.read_csv(input_file)\n",
    "    df = df[df[\"REPORT_TYPE\"] != \"FM12\"]\n",
    "    columns_to_keep = [\"DATE\", \"WND\", \"CIG\", \"VIS\", \"TMP\", \"DEW\", \"SLP\"]\n",
    "    df = df[columns_to_keep]\n",
    "\n",
    "    df[\"DATE\"] = df[\"DATE\"].str.replace(\"-\", \"\").str.replace(\"T\", \"\").str.replace(\":\", \"\").astype(int)\n",
    "\n",
    "    df[\"WND\"] = df[\"WND\"].apply(process_wnd)\n",
    "\n",
    "    df[\"CIG\"] = df[\"CIG\"].apply(process_cig)\n",
    "\n",
    "    df[\"VIS\"] = df[\"VIS\"].apply(process_vis)\n",
    "\n",
    "    df[\"TMP\"] = df[\"TMP\"].apply(process_tmp)\n",
    "\n",
    "    df[\"DEW\"] = df[\"DEW\"].apply(process_dew)\n",
    "\n",
    "    df[\"SLP\"] = df[\"SLP\"].apply(process_slp)\n",
    "\n",
    "    df.to_csv(output_file, index=False)\n",
    "    print(f\"Processed data saved to {output_file}\")"
   ]
  },
  {
   "cell_type": "code",
   "execution_count": 33,
   "metadata": {},
   "outputs": [
    {
     "name": "stdout",
     "output_type": "stream",
     "text": [
      "Processed data saved to ~/AQIprediction/aqi_preproc/beijing_2000.csv\n",
      "Processed data saved to ~/AQIprediction/aqi_preproc/beijing_2001.csv\n",
      "Processed data saved to ~/AQIprediction/aqi_preproc/beijing_2002.csv\n",
      "Processed data saved to ~/AQIprediction/aqi_preproc/beijing_2003.csv\n",
      "Processed data saved to ~/AQIprediction/aqi_preproc/beijing_2004.csv\n",
      "Processed data saved to ~/AQIprediction/aqi_preproc/beijing_2005.csv\n",
      "Processed data saved to ~/AQIprediction/aqi_preproc/beijing_2006.csv\n",
      "Processed data saved to ~/AQIprediction/aqi_preproc/beijing_2007.csv\n",
      "Processed data saved to ~/AQIprediction/aqi_preproc/beijing_2008.csv\n"
     ]
    },
    {
     "name": "stderr",
     "output_type": "stream",
     "text": [
      "/tmp/ipykernel_251642/4198059965.py:2: DtypeWarning: Columns (16,17,18,19,20,22,23,30,31) have mixed types. Specify dtype option on import or set low_memory=False.\n",
      "  df = pd.read_csv(input_file)\n"
     ]
    },
    {
     "name": "stdout",
     "output_type": "stream",
     "text": [
      "Processed data saved to ~/AQIprediction/aqi_preproc/beijing_2009.csv\n"
     ]
    },
    {
     "name": "stderr",
     "output_type": "stream",
     "text": [
      "/tmp/ipykernel_251642/4198059965.py:2: DtypeWarning: Columns (16,17,18,19,20,22,23,25,31,32) have mixed types. Specify dtype option on import or set low_memory=False.\n",
      "  df = pd.read_csv(input_file)\n"
     ]
    },
    {
     "name": "stdout",
     "output_type": "stream",
     "text": [
      "Processed data saved to ~/AQIprediction/aqi_preproc/beijing_2010.csv\n"
     ]
    },
    {
     "name": "stderr",
     "output_type": "stream",
     "text": [
      "/tmp/ipykernel_251642/4198059965.py:2: DtypeWarning: Columns (17,19,20,22,23,25,31,32) have mixed types. Specify dtype option on import or set low_memory=False.\n",
      "  df = pd.read_csv(input_file)\n"
     ]
    },
    {
     "name": "stdout",
     "output_type": "stream",
     "text": [
      "Processed data saved to ~/AQIprediction/aqi_preproc/beijing_2011.csv\n"
     ]
    },
    {
     "name": "stderr",
     "output_type": "stream",
     "text": [
      "/tmp/ipykernel_251642/4198059965.py:2: DtypeWarning: Columns (23,25,32) have mixed types. Specify dtype option on import or set low_memory=False.\n",
      "  df = pd.read_csv(input_file)\n"
     ]
    },
    {
     "name": "stdout",
     "output_type": "stream",
     "text": [
      "Processed data saved to ~/AQIprediction/aqi_preproc/beijing_2012.csv\n"
     ]
    },
    {
     "name": "stderr",
     "output_type": "stream",
     "text": [
      "/tmp/ipykernel_251642/4198059965.py:2: DtypeWarning: Columns (8,16,17,22,23,25,30,31) have mixed types. Specify dtype option on import or set low_memory=False.\n",
      "  df = pd.read_csv(input_file)\n"
     ]
    },
    {
     "name": "stdout",
     "output_type": "stream",
     "text": [
      "Processed data saved to ~/AQIprediction/aqi_preproc/beijing_2013.csv\n"
     ]
    },
    {
     "name": "stderr",
     "output_type": "stream",
     "text": [
      "/tmp/ipykernel_251642/4198059965.py:2: DtypeWarning: Columns (22,23) have mixed types. Specify dtype option on import or set low_memory=False.\n",
      "  df = pd.read_csv(input_file)\n"
     ]
    },
    {
     "name": "stdout",
     "output_type": "stream",
     "text": [
      "Processed data saved to ~/AQIprediction/aqi_preproc/beijing_2014.csv\n"
     ]
    },
    {
     "name": "stderr",
     "output_type": "stream",
     "text": [
      "/tmp/ipykernel_251642/4198059965.py:2: DtypeWarning: Columns (23,31,33) have mixed types. Specify dtype option on import or set low_memory=False.\n",
      "  df = pd.read_csv(input_file)\n"
     ]
    },
    {
     "name": "stdout",
     "output_type": "stream",
     "text": [
      "Processed data saved to ~/AQIprediction/aqi_preproc/beijing_2015.csv\n"
     ]
    },
    {
     "name": "stderr",
     "output_type": "stream",
     "text": [
      "/tmp/ipykernel_251642/4198059965.py:2: DtypeWarning: Columns (23,26,33) have mixed types. Specify dtype option on import or set low_memory=False.\n",
      "  df = pd.read_csv(input_file)\n"
     ]
    },
    {
     "name": "stdout",
     "output_type": "stream",
     "text": [
      "Processed data saved to ~/AQIprediction/aqi_preproc/beijing_2016.csv\n"
     ]
    },
    {
     "name": "stderr",
     "output_type": "stream",
     "text": [
      "/tmp/ipykernel_251642/4198059965.py:2: DtypeWarning: Columns (23,26,32,34) have mixed types. Specify dtype option on import or set low_memory=False.\n",
      "  df = pd.read_csv(input_file)\n"
     ]
    },
    {
     "name": "stdout",
     "output_type": "stream",
     "text": [
      "Processed data saved to ~/AQIprediction/aqi_preproc/beijing_2017.csv\n"
     ]
    },
    {
     "name": "stderr",
     "output_type": "stream",
     "text": [
      "/tmp/ipykernel_251642/4198059965.py:2: DtypeWarning: Columns (23,26,32,33,35) have mixed types. Specify dtype option on import or set low_memory=False.\n",
      "  df = pd.read_csv(input_file)\n"
     ]
    },
    {
     "name": "stdout",
     "output_type": "stream",
     "text": [
      "Processed data saved to ~/AQIprediction/aqi_preproc/beijing_2018.csv\n"
     ]
    },
    {
     "name": "stderr",
     "output_type": "stream",
     "text": [
      "/tmp/ipykernel_251642/4198059965.py:2: DtypeWarning: Columns (18,19,25,28,29,31) have mixed types. Specify dtype option on import or set low_memory=False.\n",
      "  df = pd.read_csv(input_file)\n"
     ]
    },
    {
     "name": "stdout",
     "output_type": "stream",
     "text": [
      "Processed data saved to ~/AQIprediction/aqi_preproc/beijing_2019.csv\n"
     ]
    },
    {
     "name": "stderr",
     "output_type": "stream",
     "text": [
      "/tmp/ipykernel_251642/4198059965.py:2: DtypeWarning: Columns (19,22,25) have mixed types. Specify dtype option on import or set low_memory=False.\n",
      "  df = pd.read_csv(input_file)\n"
     ]
    },
    {
     "name": "stdout",
     "output_type": "stream",
     "text": [
      "Processed data saved to ~/AQIprediction/aqi_preproc/beijing_2020.csv\n"
     ]
    },
    {
     "name": "stderr",
     "output_type": "stream",
     "text": [
      "/tmp/ipykernel_251642/4198059965.py:2: DtypeWarning: Columns (25,35) have mixed types. Specify dtype option on import or set low_memory=False.\n",
      "  df = pd.read_csv(input_file)\n"
     ]
    },
    {
     "name": "stdout",
     "output_type": "stream",
     "text": [
      "Processed data saved to ~/AQIprediction/aqi_preproc/beijing_2021.csv\n"
     ]
    },
    {
     "name": "stderr",
     "output_type": "stream",
     "text": [
      "/tmp/ipykernel_251642/4198059965.py:2: DtypeWarning: Columns (19,25,28) have mixed types. Specify dtype option on import or set low_memory=False.\n",
      "  df = pd.read_csv(input_file)\n"
     ]
    },
    {
     "name": "stdout",
     "output_type": "stream",
     "text": [
      "Processed data saved to ~/AQIprediction/aqi_preproc/beijing_2022.csv\n",
      "Processed data saved to ~/AQIprediction/aqi_preproc/beijing_2023.csv\n"
     ]
    },
    {
     "name": "stderr",
     "output_type": "stream",
     "text": [
      "/tmp/ipykernel_251642/4198059965.py:2: DtypeWarning: Columns (19,25) have mixed types. Specify dtype option on import or set low_memory=False.\n",
      "  df = pd.read_csv(input_file)\n"
     ]
    }
   ],
   "source": [
    "for year in range(2000, 2024):  # 2000 to 2023\n",
    "    input_filename = f\"~/AQIprediction/aqi_data/beijing_{year}.csv\"\n",
    "    output_filename = f\"~/AQIprediction/aqi_preproc/beijing_{year}.csv\"\n",
    "    \n",
    "    process_file(input_filename, output_filename)"
   ]
  }
 ],
 "metadata": {
  "kernelspec": {
   "display_name": "aqipred",
   "language": "python",
   "name": "python3"
  },
  "language_info": {
   "codemirror_mode": {
    "name": "ipython",
    "version": 3
   },
   "file_extension": ".py",
   "mimetype": "text/x-python",
   "name": "python",
   "nbconvert_exporter": "python",
   "pygments_lexer": "ipython3",
   "version": "3.13.1"
  }
 },
 "nbformat": 4,
 "nbformat_minor": 2
}
