{
 "cells": [
  {
   "cell_type": "code",
   "execution_count": 3,
   "metadata": {},
   "outputs": [],
   "source": [
    "import pandas as pd\n",
    "\n",
    "# Load the datasets\n",
    "file1 = \"~/AQIprediction/daily_climate.csv\"  # Replace with the actual file path for the weather dataset\n",
    "file2 = \"~/AQIprediction/beijing-air-quality.csv\"  # Replace with the actual file path for the pollution dataset\n",
    "\n",
    "# Read the datasets into pandas DataFrames\n",
    "weather_df = pd.read_csv(file1)\n",
    "pollution_df = pd.read_csv(file2)"
   ]
  },
  {
   "cell_type": "code",
   "execution_count": 4,
   "metadata": {},
   "outputs": [],
   "source": [
    "# Convert `DAY` and `date` columns to the same format (YYYY-MM-DD)\n",
    "weather_df['DAY'] = pd.to_datetime(weather_df['DAY'], format='%Y-%m-%d')\n",
    "pollution_df['date'] = pd.to_datetime(pollution_df['date'], format='%m/%d/%Y')\n",
    "\n",
    "# Rename `date` in pollution_df to `DAY` for merging\n",
    "pollution_df.rename(columns={'date': 'DAY'}, inplace=True)"
   ]
  },
  {
   "cell_type": "code",
   "execution_count": 5,
   "metadata": {},
   "outputs": [],
   "source": [
    "# Split `WND` into `wnd_direc` and `wnd_scale`\n",
    "def process_wnd(wnd_value):\n",
    "    if isinstance(wnd_value, str) and wnd_value.startswith(\"(\") and wnd_value.endswith(\")\"):\n",
    "        # Parse the tuple as a string\n",
    "        try:\n",
    "            wnd_direc, wnd_scale = eval(wnd_value)\n",
    "            return pd.Series({'wnd_direc': float(wnd_direc), 'wnd_scale': float(wnd_scale)})\n",
    "        except:\n",
    "            return pd.Series({'wnd_direc': None, 'wnd_scale': None})\n",
    "    else:\n",
    "        return pd.Series({'wnd_direc': None, 'wnd_scale': None})"
   ]
  },
  {
   "cell_type": "code",
   "execution_count": 6,
   "metadata": {},
   "outputs": [],
   "source": [
    "# Apply the function to separate WND values\n",
    "weather_df[['wnd_direc', 'wnd_scale']] = weather_df['WND'].apply(process_wnd)\n",
    "\n",
    "# Drop the original `WND` column\n",
    "weather_df.drop(columns=['WND'], inplace=True)"
   ]
  },
  {
   "cell_type": "code",
   "execution_count": 8,
   "metadata": {},
   "outputs": [
    {
     "name": "stdout",
     "output_type": "stream",
     "text": [
      "Combined data with lowercase column names saved to ~/AQIprediction/combined_data.csv\n"
     ]
    }
   ],
   "source": [
    "# Merge the two datasets on the `DAY` column\n",
    "combined_df = pd.merge(weather_df, pollution_df, on='DAY', how='inner')\n",
    "\n",
    "# Rename all columns to lowercase after the merge\n",
    "combined_df.columns = combined_df.columns.str.lower()\n",
    "\n",
    "# Save the combined DataFrame to a new CSV file\n",
    "output_file = \"~/AQIprediction/combined_data.csv\"\n",
    "combined_df.to_csv(output_file, index=False)\n",
    "print(f\"Combined data with lowercase column names saved to {output_file}\")"
   ]
  }
 ],
 "metadata": {
  "kernelspec": {
   "display_name": "aqipred",
   "language": "python",
   "name": "python3"
  },
  "language_info": {
   "codemirror_mode": {
    "name": "ipython",
    "version": 3
   },
   "file_extension": ".py",
   "mimetype": "text/x-python",
   "name": "python",
   "nbconvert_exporter": "python",
   "pygments_lexer": "ipython3",
   "version": "3.13.1"
  }
 },
 "nbformat": 4,
 "nbformat_minor": 2
}
