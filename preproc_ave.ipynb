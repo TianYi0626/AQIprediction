{
 "cells": [
  {
   "cell_type": "code",
   "execution_count": 1,
   "metadata": {},
   "outputs": [],
   "source": [
    "import pandas as pd\n",
    "import numpy as np\n",
    "from math import radians, sin, cos, atan2, sqrt\n",
    "import os"
   ]
  },
  {
   "cell_type": "code",
   "execution_count": 2,
   "metadata": {},
   "outputs": [],
   "source": [
    "# Function to calculate average WND in polar coordinates\n",
    "def average_wind(wind_data):\n",
    "    u_total, v_total, count = 0, 0, 0\n",
    "\n",
    "    for wind in wind_data:\n",
    "        if wind and wind != \"(None, None)\":\n",
    "            direction, speed = eval(wind)\n",
    "            if direction is not None and speed is not None:\n",
    "                direction_rad = radians(direction)\n",
    "                u_total += speed * cos(direction_rad)\n",
    "                v_total += speed * sin(direction_rad)\n",
    "                count += 1\n",
    "\n",
    "    if count == 0:\n",
    "        return None\n",
    "\n",
    "    avg_u = u_total / count\n",
    "    avg_v = v_total / count\n",
    "    avg_speed = sqrt(avg_u**2 + avg_v**2)\n",
    "    avg_direction = (atan2(avg_v, avg_u) * 180 / np.pi) % 360\n",
    "\n",
    "    return avg_direction, avg_speed"
   ]
  },
  {
   "cell_type": "code",
   "execution_count": 3,
   "metadata": {},
   "outputs": [],
   "source": [
    "# Group by day and calculate averages\n",
    "def calculate_daily_averages(df):\n",
    "    daily_averages = []\n",
    "\n",
    "    for day, group in df.groupby('DAY'):\n",
    "        avg_wnd = average_wind(group['WND'])\n",
    "        avg_cig = group['CIG'].dropna().mean()\n",
    "        avg_vis = group['VIS'].dropna().mean()\n",
    "        avg_tmp = group['TMP'].dropna().mean()\n",
    "        avg_dew = group['DEW'].dropna().mean()\n",
    "        avg_slp = group['SLP'].dropna().mean()\n",
    "\n",
    "        daily_averages.append({\n",
    "            'DAY': day,\n",
    "            'WND': avg_wnd,\n",
    "            'CIG': avg_cig,\n",
    "            'VIS': avg_vis,\n",
    "            'TMP': avg_tmp,\n",
    "            'DEW': avg_dew,\n",
    "            'SLP': avg_slp\n",
    "        })\n",
    "\n",
    "    return pd.DataFrame(daily_averages)"
   ]
  },
  {
   "cell_type": "code",
   "execution_count": null,
   "metadata": {},
   "outputs": [],
   "source": [
    "# Process multiple files\n",
    "def process_files(file_list):\n",
    "    all_daily_averages = []\n",
    "\n",
    "    for file in file_list:\n",
    "            df = pd.read_csv(file)\n",
    "\n",
    "            # Convert DATE to a datetime object and extract the date\n",
    "            df['DATE'] = pd.to_datetime(df['DATE'], format='%Y%m%d%H%M%S')\n",
    "            df['DAY'] = df['DATE'].dt.date\n",
    "\n",
    "            daily_averages_df = calculate_daily_averages(df)\n",
    "            all_daily_averages.append(daily_averages_df)\n",
    "\n",
    "    # Combine all daily averages into a single DataFrame\n",
    "    return pd.concat(all_daily_averages, ignore_index=True)"
   ]
  },
  {
   "cell_type": "code",
   "execution_count": null,
   "metadata": {},
   "outputs": [],
   "source": [
    "# List of files from 2014 to 2023\n",
    "file_list = [f\"~/AQIprediction/aqi_preproc/beijing_{year}.csv\" for year in range(2014, 2024)]\n",
    "\n",
    "# Calculate daily averages for all files\n",
    "all_daily_averages_df = process_files(file_list)\n",
    "\n",
    "# Save the result to a CSV file\n",
    "all_daily_averages_df.to_csv(\"~/AQIprediction/daily_climate.csv\", index=False)\n",
    "\n",
    "# Print the result\n",
    "print(all_daily_averages_df)"
   ]
  }
 ],
 "metadata": {
  "kernelspec": {
   "display_name": "aqipred",
   "language": "python",
   "name": "python3"
  },
  "language_info": {
   "codemirror_mode": {
    "name": "ipython",
    "version": 3
   },
   "file_extension": ".py",
   "mimetype": "text/x-python",
   "name": "python",
   "nbconvert_exporter": "python",
   "pygments_lexer": "ipython3",
   "version": "3.13.1"
  }
 },
 "nbformat": 4,
 "nbformat_minor": 2
}
