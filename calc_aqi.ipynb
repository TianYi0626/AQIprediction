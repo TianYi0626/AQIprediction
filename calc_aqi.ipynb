{
 "cells": [
  {
   "cell_type": "code",
   "execution_count": null,
   "metadata": {},
   "outputs": [],
   "source": [
    "import pandas as pd\n",
    "\n",
    "# Define the breakpoints for each pollutant\n",
    "breakpoints = {\n",
    "    \"pm25\": [(0, 35), (35.1, 75), (75.1, 115), (115.1, 150), (150.1, 250), (250.1, 350), (350.1, 500)],\n",
    "    \"pm10\": [(0, 50), (50.1, 150), (150.1, 250), (250.1, 350), (350.1, 420), (420.1, 500), (500.1, 600)],\n",
    "    \"o3\": [(0, 100), (100.1, 160), (160.1, 215), (215.1, 265), (265.1, 800), (800.1, float(\"inf\")), (float(\"inf\"), float(\"inf\"))],\n",
    "    \"no2\": [(0, 40), (40.1, 80), (80.1, 180), (180.1, 280), (280.1, 565), (565.1, 750), (750.1, 940)],\n",
    "    \"so2\": [(0, 50), (50.1, 150), (150.1, 475), (475.1, 800), (800.1, 1600), (1600.1, 2100), (2100.1, 620)],\n",
    "    \"co\": [(0, 2), (2.1, 4), (4.1, 14), (14.1, 24), (24.1, 36), (36.1, 48), (48.1, 60)]\n",
    "}\n",
    "\n",
    "iaqi_ranges = [(0, 50), (51, 100), (101, 150), (151, 200), (201, 300), (301, 400), (401, 500)]"
   ]
  },
  {
   "cell_type": "code",
   "execution_count": null,
   "metadata": {},
   "outputs": [],
   "source": [
    "# Function to calculate IAQI for a given pollutant\n",
    "def calculate_iaqi(value, pollutant):\n",
    "    \"\"\"Calculate IAQI for a given pollutant value.\"\"\"\n",
    "    if value is None or value < 0:\n",
    "        return None  # Invalid or missing data\n",
    "    \n",
    "    for i, (low, high) in enumerate(breakpoints[pollutant]):\n",
    "        if low <= value <= high:\n",
    "            iaqi_low, iaqi_high = iaqi_ranges[i]\n",
    "            iaqi = iaqi_low + ((value - low) / (high - low)) * (iaqi_high - iaqi_low)\n",
    "            return round(iaqi)\n",
    "    return None  # Value is out of range"
   ]
  },
  {
   "cell_type": "code",
   "execution_count": null,
   "metadata": {},
   "outputs": [],
   "source": [
    "# Function to calculate AQI for each row and determine the pollutant\n",
    "def calculate_aqi_for_row(row):\n",
    "    \"\"\"Calculate AQI for a given row based on IAQI of pollutants and record the pollutant.\"\"\"\n",
    "    pollutants = [\"pm25\", \"pm10\", \"o3\", \"no2\", \"so2\", \"co\"]\n",
    "    \n",
    "    iaqi_values = {\n",
    "        \"pm25\": calculate_iaqi(row[\"pm25\"], \"pm25\"),\n",
    "        \"pm10\": calculate_iaqi(row[\"pm10\"], \"pm10\"),\n",
    "        \"o3\": calculate_iaqi(row[\"o3\"], \"o3\"),\n",
    "        \"no2\": calculate_iaqi(row[\"no2\"], \"no2\"),\n",
    "        \"so2\": calculate_iaqi(row[\"so2\"], \"so2\"),\n",
    "        \"co\": calculate_iaqi(row[\"co\"], \"co\")\n",
    "    }\n",
    "    \n",
    "    # Remove pollutants with None (invalid IAQI)\n",
    "    valid_iaqi = {key: value for key, value in iaqi_values.items() if value is not None}\n",
    "    \n",
    "    if not valid_iaqi:\n",
    "        return None, None  # No valid IAQI\n",
    "    \n",
    "    # Calculate the AQI as the maximum of IAQI values\n",
    "    aqi = max(valid_iaqi.values())\n",
    "    \n",
    "    # Find the pollutant corresponding to the highest IAQI\n",
    "    determining_pollutant = max(valid_iaqi, key=valid_iaqi.get)\n",
    "    \n",
    "    return aqi, determining_pollutant"
   ]
  },
  {
   "cell_type": "code",
   "execution_count": null,
   "metadata": {},
   "outputs": [],
   "source": [
    "# Read the data from the CSV file (replace 'your_file.csv' with your actual file path)\n",
    "file_path = \"~/AQIprediction/combined_data.csv\"  # Update with your file path\n",
    "df = pd.read_csv(file_path)\n",
    "\n",
    "# Convert the columns to numeric, handling errors by coercing invalid values to NaN\n",
    "numeric_columns = [\"pm25\", \"pm10\", \"o3\", \"no2\", \"so2\", \"co\"]  # Add other columns if necessary\n",
    "df[numeric_columns] = df[numeric_columns].apply(pd.to_numeric, errors='coerce')\n",
    "\n",
    "# Calculate AQI and determining pollutant for each row and add it to the DataFrame\n",
    "df[[\"AQI\", \"Determining_Pollutant\"]] = df.apply(lambda row: calculate_aqi_for_row(row), axis=1, result_type=\"expand\")\n",
    "\n",
    "# Save the updated DataFrame to the same CSV file or a new file\n",
    "df.to_csv(file_path, index=False)  # Use a different file path if you don't want to overwrite\n",
    "\n",
    "# Display the result (optional)\n",
    "print(df)"
   ]
  }
 ],
 "metadata": {
  "kernelspec": {
   "display_name": "base",
   "language": "python",
   "name": "python3"
  },
  "language_info": {
   "name": "python",
   "version": "3.12.7"
  }
 },
 "nbformat": 4,
 "nbformat_minor": 2
}
